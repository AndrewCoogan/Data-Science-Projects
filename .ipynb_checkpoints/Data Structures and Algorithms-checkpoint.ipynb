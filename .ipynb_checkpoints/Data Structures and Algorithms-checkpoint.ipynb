{
 "cells": [
  {
   "cell_type": "code",
   "execution_count": 2,
   "metadata": {},
   "outputs": [
    {
     "data": {
      "text/plain": [
       "8"
      ]
     },
     "execution_count": 2,
     "metadata": {},
     "output_type": "execute_result"
    }
   ],
   "source": [
    "# How many cores do I have, I just dont know.\n",
    "import os\n",
    "os.cpu_count()"
   ]
  },
  {
   "cell_type": "code",
   "execution_count": 41,
   "metadata": {},
   "outputs": [
    {
     "name": "stdout",
     "output_type": "stream",
     "text": [
      "Sat\n",
      "Sun\n",
      "Tue\n",
      "Wed\n",
      "Thurs\n",
      "Fri\n"
     ]
    }
   ],
   "source": [
    "# Singularly linked lists\n",
    "# There are two elements, a value and the following elements memory location.\n",
    "# You can move forward, but no backwards, for that you need doubly linked list.\n",
    "\n",
    "class Node:\n",
    "    def __init__(self, dataval = None):\n",
    "        self.dataval = dataval\n",
    "        self.nextval = None\n",
    "    \n",
    "class SLinkedList:\n",
    "    def __init__(self):\n",
    "        self.headval = None\n",
    "\n",
    "    def print_list(self):\n",
    "        printval = self.headval\n",
    "        while printval is not None:\n",
    "            print(printval.dataval)\n",
    "            printval = printval.nextval\n",
    "            \n",
    "    def insert_at_beginning(self, newNode : Node):\n",
    "        newNode.nextval = self.headval\n",
    "        self.headval = newNode\n",
    "        \n",
    "    def insert_at_end(self, endNode : Node):\n",
    "        if self.headval is None:\n",
    "            self.headval = endNode\n",
    "            return\n",
    "        hv = self.headval\n",
    "        while hv.nextval is not None:\n",
    "            hv = hv.nextval\n",
    "        hv.nextval = endNode\n",
    "            \n",
    "    def remove(self, name : str):\n",
    "        # Store head node\n",
    "        temp = self.headval\n",
    " \n",
    "        # If head node itself holds the key to be deleted\n",
    "        if (temp is not None):\n",
    "            if (temp.dataval == name):\n",
    "                self.headval = temp.nextval\n",
    "                temp = None\n",
    "                return\n",
    " \n",
    "        # Search for the key to be deleted, keep track of the previous node as we need to change 'prev.nextval'\n",
    "        while(temp is not None):\n",
    "            if temp.dataval == name:\n",
    "                break\n",
    "            prev = temp\n",
    "            temp = temp.nextval\n",
    " \n",
    "        # if key was not present in linked list\n",
    "        if(temp == None):\n",
    "            return\n",
    " \n",
    "        # Unlink the node from linked list\n",
    "        prev.nextval = temp.nextval\n",
    "        temp = None\n",
    "\n",
    "sll = SLinkedList()\n",
    "sll.headval = Node(\"Mon\")\n",
    "e2 = Node(\"Tue\")\n",
    "e3 = Node(\"Wed\")\n",
    "\n",
    "sll.headval.nextval = e2 # Link first Node to second node\n",
    "e2.nextval = e3 # Link second Node to third node\n",
    "\n",
    "sll.insert_at_beginning(Node(\"Sun\"))\n",
    "sll.insert_at_end(Node(\"Thurs\"))\n",
    "sll.insert_at_end(Node(\"Fri\"))\n",
    "sll.insert_at_beginning(Node(\"Sat\"))\n",
    "sll.remove_v2(\"Mon\")\n",
    "\n",
    "sll.print_list()"
   ]
  },
  {
   "cell_type": "code",
   "execution_count": null,
   "metadata": {},
   "outputs": [],
   "source": []
  }
 ],
 "metadata": {
  "kernelspec": {
   "display_name": "Python 3",
   "language": "python",
   "name": "python3"
  },
  "language_info": {
   "codemirror_mode": {
    "name": "ipython",
    "version": 3
   },
   "file_extension": ".py",
   "mimetype": "text/x-python",
   "name": "python",
   "nbconvert_exporter": "python",
   "pygments_lexer": "ipython3",
   "version": "3.7.4"
  }
 },
 "nbformat": 4,
 "nbformat_minor": 2
}
