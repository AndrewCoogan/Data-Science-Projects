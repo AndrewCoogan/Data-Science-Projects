{
 "cells": [
  {
   "cell_type": "code",
   "execution_count": 2,
   "metadata": {},
   "outputs": [
    {
     "data": {
      "text/plain": [
       "8"
      ]
     },
     "execution_count": 2,
     "metadata": {},
     "output_type": "execute_result"
    }
   ],
   "source": [
    "# How many cores do I have, I just dont know.\n",
    "import os\n",
    "os.cpu_count()"
   ]
  },
  {
   "cell_type": "code",
   "execution_count": 26,
   "metadata": {},
   "outputs": [
    {
     "ename": "AttributeError",
     "evalue": "'NoneType' object has no attribute 'nextval'",
     "output_type": "error",
     "traceback": [
      "\u001b[0;31m---------------------------------------------------------------------------\u001b[0m",
      "\u001b[0;31mAttributeError\u001b[0m                            Traceback (most recent call last)",
      "\u001b[0;32m<ipython-input-26-c2d15a6cafae>\u001b[0m in \u001b[0;36m<module>\u001b[0;34m\u001b[0m\n\u001b[1;32m     53\u001b[0m \u001b[0msll\u001b[0m\u001b[0;34m.\u001b[0m\u001b[0minsert_at_end\u001b[0m\u001b[0;34m(\u001b[0m\u001b[0mNode\u001b[0m\u001b[0;34m(\u001b[0m\u001b[0;34m\"Fri\"\u001b[0m\u001b[0;34m)\u001b[0m\u001b[0;34m)\u001b[0m\u001b[0;34m\u001b[0m\u001b[0;34m\u001b[0m\u001b[0m\n\u001b[1;32m     54\u001b[0m \u001b[0msll\u001b[0m\u001b[0;34m.\u001b[0m\u001b[0minsert_at_beginning\u001b[0m\u001b[0;34m(\u001b[0m\u001b[0mNode\u001b[0m\u001b[0;34m(\u001b[0m\u001b[0;34m\"Sat\"\u001b[0m\u001b[0;34m)\u001b[0m\u001b[0;34m)\u001b[0m\u001b[0;34m\u001b[0m\u001b[0;34m\u001b[0m\u001b[0m\n\u001b[0;32m---> 55\u001b[0;31m \u001b[0msll\u001b[0m\u001b[0;34m.\u001b[0m\u001b[0mremove\u001b[0m\u001b[0;34m(\u001b[0m\u001b[0;34m\"Mon\"\u001b[0m\u001b[0;34m)\u001b[0m\u001b[0;34m\u001b[0m\u001b[0;34m\u001b[0m\u001b[0m\n\u001b[0m\u001b[1;32m     56\u001b[0m \u001b[0;34m\u001b[0m\u001b[0m\n\u001b[1;32m     57\u001b[0m \u001b[0msll\u001b[0m\u001b[0;34m.\u001b[0m\u001b[0mprint_list\u001b[0m\u001b[0;34m(\u001b[0m\u001b[0;34m)\u001b[0m\u001b[0;34m\u001b[0m\u001b[0;34m\u001b[0m\u001b[0m\n",
      "\u001b[0;32m<ipython-input-26-c2d15a6cafae>\u001b[0m in \u001b[0;36mremove\u001b[0;34m(self, name)\u001b[0m\n\u001b[1;32m     38\u001b[0m             \u001b[0;32mif\u001b[0m \u001b[0mhv\u001b[0m\u001b[0;34m.\u001b[0m\u001b[0mdataval\u001b[0m \u001b[0;34m!=\u001b[0m \u001b[0mname\u001b[0m\u001b[0;34m:\u001b[0m\u001b[0;34m\u001b[0m\u001b[0;34m\u001b[0m\u001b[0m\n\u001b[1;32m     39\u001b[0m                 \u001b[0mhv\u001b[0m \u001b[0;34m=\u001b[0m \u001b[0mhv\u001b[0m\u001b[0;34m.\u001b[0m\u001b[0mnextval\u001b[0m\u001b[0;34m\u001b[0m\u001b[0;34m\u001b[0m\u001b[0m\n\u001b[0;32m---> 40\u001b[0;31m             \u001b[0mhv2\u001b[0m \u001b[0;34m=\u001b[0m \u001b[0mhv\u001b[0m\u001b[0;34m.\u001b[0m\u001b[0mnextval\u001b[0m\u001b[0;34m\u001b[0m\u001b[0;34m\u001b[0m\u001b[0m\n\u001b[0m\u001b[1;32m     41\u001b[0m             \u001b[0mhv\u001b[0m \u001b[0;34m=\u001b[0m \u001b[0mhv2\u001b[0m\u001b[0;34m.\u001b[0m\u001b[0mnextval\u001b[0m\u001b[0;34m\u001b[0m\u001b[0;34m\u001b[0m\u001b[0m\n\u001b[1;32m     42\u001b[0m \u001b[0;34m\u001b[0m\u001b[0m\n",
      "\u001b[0;31mAttributeError\u001b[0m: 'NoneType' object has no attribute 'nextval'"
     ]
    }
   ],
   "source": [
    "# Singularly linked lists\n",
    "# There are two elements, a value and the following elements memory location.\n",
    "# You can move forward, but no backwards, for that you need doubly linked list.\n",
    "\n",
    "class Node:\n",
    "    def __init__(self, dataval = None):\n",
    "        self.dataval = dataval\n",
    "        self.nextval = None\n",
    "    \n",
    "class SLinkedList:\n",
    "    def __init__(self):\n",
    "        self.headval = None\n",
    "\n",
    "    def print_list(self):\n",
    "        printval = self.headval\n",
    "        while printval is not None:\n",
    "            print(printval.dataval)\n",
    "            printval = printval.nextval\n",
    "            \n",
    "    def insert_at_beginning(self, newNode : Node):\n",
    "        newNode.nextval = self.headval\n",
    "        self.headval = newNode\n",
    "        \n",
    "    def insert_at_end(self, endNode : Node):\n",
    "        if self.headval is None:\n",
    "            self.headval = endNode\n",
    "            return\n",
    "        hv = self.headval\n",
    "        while hv.nextval is not None:\n",
    "            hv = hv.nextval\n",
    "        hv.nextval = endNode\n",
    "    \n",
    "    def remove(self, name : str):\n",
    "        if self.headval is None:\n",
    "            return 'Nothing to remove.'\n",
    "        hv = self.headval\n",
    "        while hv is not None:\n",
    "            if hv.dataval != name:\n",
    "                hv = hv.nextval\n",
    "            hv2 = hv.nextval\n",
    "            hv = hv2.nextval\n",
    "\n",
    "sll = SLinkedList()\n",
    "sll.headval = Node(\"Mon\")\n",
    "e2 = Node(\"Tue\")\n",
    "e3 = Node(\"Wed\")\n",
    "\n",
    "sll.headval.nextval = e2 # Link first Node to second node\n",
    "e2.nextval = e3 # Link second Node to third node\n",
    "\n",
    "sll.insert_at_beginning(Node(\"Sun\"))\n",
    "sll.insert_at_end(Node(\"Thurs\"))\n",
    "sll.insert_at_end(Node(\"Fri\"))\n",
    "sll.insert_at_beginning(Node(\"Sat\"))\n",
    "sll.remove(\"Mon\")\n",
    "\n",
    "sll.print_list()"
   ]
  },
  {
   "cell_type": "code",
   "execution_count": null,
   "metadata": {},
   "outputs": [],
   "source": []
  }
 ],
 "metadata": {
  "kernelspec": {
   "display_name": "Python 3",
   "language": "python",
   "name": "python3"
  },
  "language_info": {
   "codemirror_mode": {
    "name": "ipython",
    "version": 3
   },
   "file_extension": ".py",
   "mimetype": "text/x-python",
   "name": "python",
   "nbconvert_exporter": "python",
   "pygments_lexer": "ipython3",
   "version": "3.7.4"
  }
 },
 "nbformat": 4,
 "nbformat_minor": 2
}
