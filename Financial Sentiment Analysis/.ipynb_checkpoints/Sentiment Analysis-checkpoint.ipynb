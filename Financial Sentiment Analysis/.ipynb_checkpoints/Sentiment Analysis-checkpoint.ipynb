{
 "cells": [
  {
   "cell_type": "code",
   "execution_count": 251,
   "metadata": {},
   "outputs": [],
   "source": [
    "import re\n",
    "import collections\n",
    "import matplotlib.pyplot as plt\n",
    "import pandas as pd\n",
    "import numpy as np\n",
    "import pickle\n",
    "from os.path import exists\n",
    "\n",
    "from nltk.corpus import stopwords\n",
    "from sklearn.preprocessing import LabelEncoder\n",
    "from sklearn.feature_extraction.text import CountVectorizer\n",
    "from sklearn.model_selection import train_test_split\n",
    "from sklearn.naive_bayes import MultinomialNB\n",
    "from sklearn.metrics import accuracy_score\n",
    "from textblob import TextBlob\n",
    "import spacy\n",
    "import contextualSpellCheck\n",
    "import textstat\n",
    "\n",
    "from keras import models\n",
    "from keras import layers\n",
    "from keras import regularizers\n",
    "from keras.utils.np_utils import to_categorical\n",
    "from keras.preprocessing.text import Tokenizer\n",
    "\n",
    "STOP_WORDS = spacy.lang.en.stop_words.STOP_WORDS"
   ]
  },
  {
   "cell_type": "code",
   "execution_count": 164,
   "metadata": {},
   "outputs": [],
   "source": [
    "# Arbitrary Functions\n",
    "def save_model(model, name):\n",
    "    with open(f'Models/{name}.pkl', 'wb') as fid:\n",
    "        pickle.dump(model, fid)  \n",
    "        \n",
    "def load_model(name):\n",
    "    with open(f'Models/{name}.pkl', 'rb') as fid:\n",
    "        model = pickle.load(fid)\n",
    "    return model"
   ]
  },
  {
   "cell_type": "code",
   "execution_count": 132,
   "metadata": {},
   "outputs": [
    {
     "data": {
      "text/html": [
       "<div>\n",
       "<style scoped>\n",
       "    .dataframe tbody tr th:only-of-type {\n",
       "        vertical-align: middle;\n",
       "    }\n",
       "\n",
       "    .dataframe tbody tr th {\n",
       "        vertical-align: top;\n",
       "    }\n",
       "\n",
       "    .dataframe thead th {\n",
       "        text-align: right;\n",
       "    }\n",
       "</style>\n",
       "<table border=\"1\" class=\"dataframe\">\n",
       "  <thead>\n",
       "    <tr style=\"text-align: right;\">\n",
       "      <th></th>\n",
       "      <th>Sentence</th>\n",
       "      <th>Sentiment</th>\n",
       "    </tr>\n",
       "  </thead>\n",
       "  <tbody>\n",
       "    <tr>\n",
       "      <td>0</td>\n",
       "      <td>The GeoSolutions technology will leverage Bene...</td>\n",
       "      <td>positive</td>\n",
       "    </tr>\n",
       "    <tr>\n",
       "      <td>1</td>\n",
       "      <td>$ESI on lows, down $1.50 to $2.50 BK a real po...</td>\n",
       "      <td>negative</td>\n",
       "    </tr>\n",
       "    <tr>\n",
       "      <td>2</td>\n",
       "      <td>For the last quarter of 2010 , Componenta 's n...</td>\n",
       "      <td>positive</td>\n",
       "    </tr>\n",
       "    <tr>\n",
       "      <td>3</td>\n",
       "      <td>According to the Finnish-Russian Chamber of Co...</td>\n",
       "      <td>neutral</td>\n",
       "    </tr>\n",
       "    <tr>\n",
       "      <td>4</td>\n",
       "      <td>The Swedish buyout firm has sold its remaining...</td>\n",
       "      <td>neutral</td>\n",
       "    </tr>\n",
       "  </tbody>\n",
       "</table>\n",
       "</div>"
      ],
      "text/plain": [
       "                                            Sentence Sentiment\n",
       "0  The GeoSolutions technology will leverage Bene...  positive\n",
       "1  $ESI on lows, down $1.50 to $2.50 BK a real po...  negative\n",
       "2  For the last quarter of 2010 , Componenta 's n...  positive\n",
       "3  According to the Finnish-Russian Chamber of Co...   neutral\n",
       "4  The Swedish buyout firm has sold its remaining...   neutral"
      ]
     },
     "execution_count": 132,
     "metadata": {},
     "output_type": "execute_result"
    }
   ],
   "source": [
    "data = pd.read_csv('Data/data.csv')\n",
    "data.head()"
   ]
  },
  {
   "cell_type": "code",
   "execution_count": 133,
   "metadata": {},
   "outputs": [
    {
     "data": {
      "text/html": [
       "<div>\n",
       "<style scoped>\n",
       "    .dataframe tbody tr th:only-of-type {\n",
       "        vertical-align: middle;\n",
       "    }\n",
       "\n",
       "    .dataframe tbody tr th {\n",
       "        vertical-align: top;\n",
       "    }\n",
       "\n",
       "    .dataframe thead th {\n",
       "        text-align: right;\n",
       "    }\n",
       "</style>\n",
       "<table border=\"1\" class=\"dataframe\">\n",
       "  <thead>\n",
       "    <tr style=\"text-align: right;\">\n",
       "      <th></th>\n",
       "      <th>Sentence</th>\n",
       "      <th>Sentiment</th>\n",
       "    </tr>\n",
       "  </thead>\n",
       "  <tbody>\n",
       "    <tr>\n",
       "      <td>0</td>\n",
       "      <td>The GeoSolutions technology leverage Benefon '...</td>\n",
       "      <td>positive</td>\n",
       "    </tr>\n",
       "    <tr>\n",
       "      <td>1</td>\n",
       "      <td>$ESI lows, $1.50 $2.50 BK real possibility</td>\n",
       "      <td>negative</td>\n",
       "    </tr>\n",
       "    <tr>\n",
       "      <td>2</td>\n",
       "      <td>For last quarter 2010 Componenta 's net sales ...</td>\n",
       "      <td>positive</td>\n",
       "    </tr>\n",
       "    <tr>\n",
       "      <td>3</td>\n",
       "      <td>According Finnish-Russian Chamber Commerce maj...</td>\n",
       "      <td>neutral</td>\n",
       "    </tr>\n",
       "    <tr>\n",
       "      <td>4</td>\n",
       "      <td>The Swedish buyout firm sold remaining 22.4 pe...</td>\n",
       "      <td>neutral</td>\n",
       "    </tr>\n",
       "  </tbody>\n",
       "</table>\n",
       "</div>"
      ],
      "text/plain": [
       "                                            Sentence Sentiment\n",
       "0  The GeoSolutions technology leverage Benefon '...  positive\n",
       "1         $ESI lows, $1.50 $2.50 BK real possibility  negative\n",
       "2  For last quarter 2010 Componenta 's net sales ...  positive\n",
       "3  According Finnish-Russian Chamber Commerce maj...   neutral\n",
       "4  The Swedish buyout firm sold remaining 22.4 pe...   neutral"
      ]
     },
     "execution_count": 133,
     "metadata": {},
     "output_type": "execute_result"
    }
   ],
   "source": [
    "def remove_stopwords(input_text):\n",
    "    stopwords_list = stopwords.words('english')\n",
    "    # Some words which might indicate a certain sentiment are kept via a whitelist\n",
    "    whitelist = [\"n't\", \"not\", \"no\"]\n",
    "    words = input_text.split() \n",
    "    clean_words = [word for word in words if (word not in stopwords_list or word in whitelist) and len(word) > 1] \n",
    "    return \" \".join(clean_words) \n",
    "    \n",
    "def remove_elements(input_text):\n",
    "    text = re.sub(r'@\\w+', '', input_text) # Removes tweet mentiones\n",
    "    text = re.sub(r\"\\S*https?:\\S*\", \"\", text) # Removes URL's\n",
    "    return text\n",
    "       \n",
    "data['Sentence'] = data['Sentence'].apply(remove_stopwords).apply(remove_elements)\n",
    "data.head()"
   ]
  },
  {
   "cell_type": "code",
   "execution_count": 134,
   "metadata": {},
   "outputs": [
    {
     "data": {
      "text/plain": [
       "<matplotlib.axes._subplots.AxesSubplot at 0x7f7e58062b50>"
      ]
     },
     "execution_count": 134,
     "metadata": {},
     "output_type": "execute_result"
    },
    {
     "data": {
      "image/png": "[encoded data removed]",
      "text/plain": [
       "<Figure size 432x288 with 1 Axes>"
      ]
     },
     "metadata": {
      "needs_background": "light"
     },
     "output_type": "display_data"
    }
   ],
   "source": [
    "data['Sentiment'].value_counts(normalize=True).plot(kind='bar')\n",
    "# There is definately a skew here, lets make sure to stratify the train test split to ensure."
   ]
  },
  {
   "cell_type": "code",
   "execution_count": 141,
   "metadata": {},
   "outputs": [
    {
     "data": {
      "text/html": [
       "<div>\n",
       "<style scoped>\n",
       "    .dataframe tbody tr th:only-of-type {\n",
       "        vertical-align: middle;\n",
       "    }\n",
       "\n",
       "    .dataframe tbody tr th {\n",
       "        vertical-align: top;\n",
       "    }\n",
       "\n",
       "    .dataframe thead tr th {\n",
       "        text-align: left;\n",
       "    }\n",
       "\n",
       "    .dataframe thead tr:last-of-type th {\n",
       "        text-align: right;\n",
       "    }\n",
       "</style>\n",
       "<table border=\"1\" class=\"dataframe\">\n",
       "  <thead>\n",
       "    <tr>\n",
       "      <th></th>\n",
       "      <th colspan=\"2\" halign=\"left\">Flesch_Score</th>\n",
       "      <th colspan=\"2\" halign=\"left\">Gunning_FOG_Score</th>\n",
       "    </tr>\n",
       "    <tr>\n",
       "      <th></th>\n",
       "      <th>mean</th>\n",
       "      <th>std</th>\n",
       "      <th>mean</th>\n",
       "      <th>std</th>\n",
       "    </tr>\n",
       "    <tr>\n",
       "      <th>Sentiment</th>\n",
       "      <th></th>\n",
       "      <th></th>\n",
       "      <th></th>\n",
       "      <th></th>\n",
       "    </tr>\n",
       "  </thead>\n",
       "  <tbody>\n",
       "    <tr>\n",
       "      <td>negative</td>\n",
       "      <td>60.952023</td>\n",
       "      <td>28.648497</td>\n",
       "      <td>8.198244</td>\n",
       "      <td>5.269671</td>\n",
       "    </tr>\n",
       "    <tr>\n",
       "      <td>neutral</td>\n",
       "      <td>38.672476</td>\n",
       "      <td>33.173451</td>\n",
       "      <td>11.992026</td>\n",
       "      <td>6.216698</td>\n",
       "    </tr>\n",
       "    <tr>\n",
       "      <td>positive</td>\n",
       "      <td>52.549163</td>\n",
       "      <td>33.511161</td>\n",
       "      <td>9.752970</td>\n",
       "      <td>6.080809</td>\n",
       "    </tr>\n",
       "  </tbody>\n",
       "</table>\n",
       "</div>"
      ],
      "text/plain": [
       "          Flesch_Score            Gunning_FOG_Score          \n",
       "                  mean        std              mean       std\n",
       "Sentiment                                                    \n",
       "negative     60.952023  28.648497          8.198244  5.269671\n",
       "neutral      38.672476  33.173451         11.992026  6.216698\n",
       "positive     52.549163  33.511161          9.752970  6.080809"
      ]
     },
     "execution_count": 141,
     "metadata": {},
     "output_type": "execute_result"
    }
   ],
   "source": [
    "data_2 = data.copy()\n",
    "\n",
    "data_2['Flesch_Score'] = data['Sentence'].map(textstat.flesch_reading_ease)\n",
    "data_2['Gunning_FOG_Score'] = data['Sentence'].map(textstat.gunning_fog)\n",
    "data_2.groupby('Sentiment').agg({\"Flesch_Score\": [np.mean, np.std], \"Gunning_FOG_Score\" : [np.mean, np.std]})"
   ]
  },
  {
   "cell_type": "markdown",
   "metadata": {},
   "source": [
    "These scores are wild, the standard deviation of the scores are almost the mean. Lets mess around with spelling correction."
   ]
  },
  {
   "cell_type": "code",
   "execution_count": 162,
   "metadata": {},
   "outputs": [
    {
     "name": "stdout",
     "output_type": "stream",
     "text": [
      "Well, how are u doing?\n"
     ]
    }
   ],
   "source": [
    "test_string = 'Helllo, how are u doig?'\n",
    "spell_check_nlp = spacy.load('en_core_web_sm')\n",
    "contextualSpellCheck.add_to_pipe(spell_check_nlp)\n",
    "test_string_checked = spell_check_nlp(test_string)\n",
    "print(test_string_checked._.outcome_spellCheck) "
   ]
  },
  {
   "cell_type": "code",
   "execution_count": 157,
   "metadata": {},
   "outputs": [
    {
     "data": {
      "text/plain": [
       "'Hello, how are u doing?'"
      ]
     },
     "execution_count": 157,
     "metadata": {},
     "output_type": "execute_result"
    }
   ],
   "source": [
    "textBlb = TextBlob(test_string)\n",
    "str(TextBlob(test_string).correct())"
   ]
  },
  {
   "cell_type": "code",
   "execution_count": 169,
   "metadata": {},
   "outputs": [],
   "source": [
    "# This took forever to run, and does not get anywhere.\n",
    "if exists('Models/data_SpellCheck.pkl'):\n",
    "    data_SpellCheck = load_model('data_SpellCheck')\n",
    "else: \n",
    "    data_SpellCheck['Spacy_SpellCheck'] = data_2['Sentence'].apply(lambda l: spell_check_nlp(l)._.outcome_spellCheck)\n",
    "    data_SpellCheck['TextBlob_SpellCheck'] = data_2['Sentence'].apply(lambda l: str(TextBlob(l).correct()))\n",
    "\n",
    "    data_SpellCheck['Spacy_SC_Flesch_Score'] = data_2['Spacy_SpellCheck'].map(textstat.flesch_reading_ease)\n",
    "    data_SpellCheck['TextBlob_SC_Flesch_Score'] = data_2['TextBlob_SpellCheck'].map(textstat.flesch_reading_ease)\n",
    "    data_SpellCheck['Spacy_FOG_Score'] = data_2['Spacy_SpellCheck'].map(textstat.gunning_fog)\n",
    "    data_SpellCheck['TextBlob_FOG_Score'] = data_2['TextBlob_SpellCheck'].map(textstat.gunning_fog)\n",
    "    save_model(data_SpellCheck,'data_SpellCheck')"
   ]
  },
  {
   "cell_type": "code",
   "execution_count": 170,
   "metadata": {},
   "outputs": [
    {
     "data": {
      "text/html": [
       "<div>\n",
       "<style scoped>\n",
       "    .dataframe tbody tr th:only-of-type {\n",
       "        vertical-align: middle;\n",
       "    }\n",
       "\n",
       "    .dataframe tbody tr th {\n",
       "        vertical-align: top;\n",
       "    }\n",
       "\n",
       "    .dataframe thead tr th {\n",
       "        text-align: left;\n",
       "    }\n",
       "\n",
       "    .dataframe thead tr:last-of-type th {\n",
       "        text-align: right;\n",
       "    }\n",
       "</style>\n",
       "<table border=\"1\" class=\"dataframe\">\n",
       "  <thead>\n",
       "    <tr>\n",
       "      <th></th>\n",
       "      <th colspan=\"2\" halign=\"left\">Gunning_FOG_Score</th>\n",
       "      <th colspan=\"2\" halign=\"left\">Spacy_FOG_Score</th>\n",
       "      <th colspan=\"2\" halign=\"left\">TextBlob_FOG_Score</th>\n",
       "    </tr>\n",
       "    <tr>\n",
       "      <th></th>\n",
       "      <th>mean</th>\n",
       "      <th>std</th>\n",
       "      <th>mean</th>\n",
       "      <th>std</th>\n",
       "      <th>mean</th>\n",
       "      <th>std</th>\n",
       "    </tr>\n",
       "    <tr>\n",
       "      <th>Sentiment</th>\n",
       "      <th></th>\n",
       "      <th></th>\n",
       "      <th></th>\n",
       "      <th></th>\n",
       "      <th></th>\n",
       "      <th></th>\n",
       "    </tr>\n",
       "  </thead>\n",
       "  <tbody>\n",
       "    <tr>\n",
       "      <td>negative</td>\n",
       "      <td>8.198244</td>\n",
       "      <td>5.269671</td>\n",
       "      <td>6.316174</td>\n",
       "      <td>5.476177</td>\n",
       "      <td>8.123093</td>\n",
       "      <td>5.258748</td>\n",
       "    </tr>\n",
       "    <tr>\n",
       "      <td>neutral</td>\n",
       "      <td>11.992026</td>\n",
       "      <td>6.216698</td>\n",
       "      <td>8.042323</td>\n",
       "      <td>7.102083</td>\n",
       "      <td>11.848192</td>\n",
       "      <td>6.159813</td>\n",
       "    </tr>\n",
       "    <tr>\n",
       "      <td>positive</td>\n",
       "      <td>9.752970</td>\n",
       "      <td>6.080809</td>\n",
       "      <td>7.012100</td>\n",
       "      <td>6.327693</td>\n",
       "      <td>9.667505</td>\n",
       "      <td>6.023082</td>\n",
       "    </tr>\n",
       "  </tbody>\n",
       "</table>\n",
       "</div>"
      ],
      "text/plain": [
       "          Gunning_FOG_Score           Spacy_FOG_Score            \\\n",
       "                       mean       std            mean       std   \n",
       "Sentiment                                                         \n",
       "negative           8.198244  5.269671        6.316174  5.476177   \n",
       "neutral           11.992026  6.216698        8.042323  7.102083   \n",
       "positive           9.752970  6.080809        7.012100  6.327693   \n",
       "\n",
       "          TextBlob_FOG_Score            \n",
       "                        mean       std  \n",
       "Sentiment                               \n",
       "negative            8.123093  5.258748  \n",
       "neutral            11.848192  6.159813  \n",
       "positive            9.667505  6.023082  "
      ]
     },
     "execution_count": 170,
     "metadata": {},
     "output_type": "execute_result"
    }
   ],
   "source": [
    "data_SpellCheck.groupby('Sentiment').agg({\n",
    "    \"Gunning_FOG_Score\": [np.mean, np.std], \n",
    "    \"Spacy_FOG_Score\" : [np.mean, np.std],\n",
    "    \"TextBlob_FOG_Score\" : [np.mean, np.std]})"
   ]
  },
  {
   "cell_type": "code",
   "execution_count": 171,
   "metadata": {},
   "outputs": [
    {
     "data": {
      "text/html": [
       "<div>\n",
       "<style scoped>\n",
       "    .dataframe tbody tr th:only-of-type {\n",
       "        vertical-align: middle;\n",
       "    }\n",
       "\n",
       "    .dataframe tbody tr th {\n",
       "        vertical-align: top;\n",
       "    }\n",
       "\n",
       "    .dataframe thead tr th {\n",
       "        text-align: left;\n",
       "    }\n",
       "\n",
       "    .dataframe thead tr:last-of-type th {\n",
       "        text-align: right;\n",
       "    }\n",
       "</style>\n",
       "<table border=\"1\" class=\"dataframe\">\n",
       "  <thead>\n",
       "    <tr>\n",
       "      <th></th>\n",
       "      <th colspan=\"2\" halign=\"left\">Flesch_Score</th>\n",
       "      <th colspan=\"2\" halign=\"left\">Spacy_SC_Flesch_Score</th>\n",
       "      <th colspan=\"2\" halign=\"left\">TextBlob_SC_Flesch_Score</th>\n",
       "    </tr>\n",
       "    <tr>\n",
       "      <th></th>\n",
       "      <th>mean</th>\n",
       "      <th>std</th>\n",
       "      <th>mean</th>\n",
       "      <th>std</th>\n",
       "      <th>mean</th>\n",
       "      <th>std</th>\n",
       "    </tr>\n",
       "    <tr>\n",
       "      <th>Sentiment</th>\n",
       "      <th></th>\n",
       "      <th></th>\n",
       "      <th></th>\n",
       "      <th></th>\n",
       "      <th></th>\n",
       "      <th></th>\n",
       "    </tr>\n",
       "  </thead>\n",
       "  <tbody>\n",
       "    <tr>\n",
       "      <td>negative</td>\n",
       "      <td>60.952023</td>\n",
       "      <td>28.648497</td>\n",
       "      <td>91.287860</td>\n",
       "      <td>60.222733</td>\n",
       "      <td>61.542291</td>\n",
       "      <td>28.529795</td>\n",
       "    </tr>\n",
       "    <tr>\n",
       "      <td>neutral</td>\n",
       "      <td>38.672476</td>\n",
       "      <td>33.173451</td>\n",
       "      <td>91.001486</td>\n",
       "      <td>78.302357</td>\n",
       "      <td>39.229291</td>\n",
       "      <td>32.953653</td>\n",
       "    </tr>\n",
       "    <tr>\n",
       "      <td>positive</td>\n",
       "      <td>52.549163</td>\n",
       "      <td>33.511161</td>\n",
       "      <td>91.257068</td>\n",
       "      <td>68.153700</td>\n",
       "      <td>52.946593</td>\n",
       "      <td>33.564288</td>\n",
       "    </tr>\n",
       "  </tbody>\n",
       "</table>\n",
       "</div>"
      ],
      "text/plain": [
       "          Flesch_Score            Spacy_SC_Flesch_Score             \\\n",
       "                  mean        std                  mean        std   \n",
       "Sentiment                                                            \n",
       "negative     60.952023  28.648497             91.287860  60.222733   \n",
       "neutral      38.672476  33.173451             91.001486  78.302357   \n",
       "positive     52.549163  33.511161             91.257068  68.153700   \n",
       "\n",
       "          TextBlob_SC_Flesch_Score             \n",
       "                              mean        std  \n",
       "Sentiment                                      \n",
       "negative                 61.542291  28.529795  \n",
       "neutral                  39.229291  32.953653  \n",
       "positive                 52.946593  33.564288  "
      ]
     },
     "execution_count": 171,
     "metadata": {},
     "output_type": "execute_result"
    }
   ],
   "source": [
    "data_SpellCheck.groupby('Sentiment').agg({\n",
    "    \"Flesch_Score\": [np.mean, np.std], \n",
    "    \"Spacy_SC_Flesch_Score\" : [np.mean, np.std],\n",
    "    \"TextBlob_SC_Flesch_Score\" : [np.mean, np.std]})"
   ]
  },
  {
   "cell_type": "code",
   "execution_count": 188,
   "metadata": {},
   "outputs": [
    {
     "data": {
      "text/html": [
       "<div>\n",
       "<style scoped>\n",
       "    .dataframe tbody tr th:only-of-type {\n",
       "        vertical-align: middle;\n",
       "    }\n",
       "\n",
       "    .dataframe tbody tr th {\n",
       "        vertical-align: top;\n",
       "    }\n",
       "\n",
       "    .dataframe thead th {\n",
       "        text-align: right;\n",
       "    }\n",
       "</style>\n",
       "<table border=\"1\" class=\"dataframe\">\n",
       "  <thead>\n",
       "    <tr style=\"text-align: right;\">\n",
       "      <th></th>\n",
       "      <th>Sentence</th>\n",
       "      <th>Sentiment</th>\n",
       "      <th>Sentence_Lemma</th>\n",
       "    </tr>\n",
       "  </thead>\n",
       "  <tbody>\n",
       "    <tr>\n",
       "      <td>0</td>\n",
       "      <td>The GeoSolutions technology leverage Benefon '...</td>\n",
       "      <td>positive</td>\n",
       "      <td>the geosolutions technology leverage benefon g...</td>\n",
       "    </tr>\n",
       "    <tr>\n",
       "      <td>1</td>\n",
       "      <td>$ESI lows, $1.50 $2.50 BK real possibility</td>\n",
       "      <td>negative</td>\n",
       "      <td>esi low bk real possibility</td>\n",
       "    </tr>\n",
       "    <tr>\n",
       "      <td>2</td>\n",
       "      <td>For last quarter 2010 Componenta 's net sales ...</td>\n",
       "      <td>positive</td>\n",
       "      <td>for last quarter componenta net sale double m ...</td>\n",
       "    </tr>\n",
       "    <tr>\n",
       "      <td>3</td>\n",
       "      <td>According Finnish-Russian Chamber Commerce maj...</td>\n",
       "      <td>neutral</td>\n",
       "      <td>accord finnish russian chamber commerce major ...</td>\n",
       "    </tr>\n",
       "    <tr>\n",
       "      <td>4</td>\n",
       "      <td>The Swedish buyout firm sold remaining 22.4 pe...</td>\n",
       "      <td>neutral</td>\n",
       "      <td>the swedish buyout firm sell remain percent st...</td>\n",
       "    </tr>\n",
       "  </tbody>\n",
       "</table>\n",
       "</div>"
      ],
      "text/plain": [
       "                                            Sentence Sentiment  \\\n",
       "0  The GeoSolutions technology leverage Benefon '...  positive   \n",
       "1         $ESI lows, $1.50 $2.50 BK real possibility  negative   \n",
       "2  For last quarter 2010 Componenta 's net sales ...  positive   \n",
       "3  According Finnish-Russian Chamber Commerce maj...   neutral   \n",
       "4  The Swedish buyout firm sold remaining 22.4 pe...   neutral   \n",
       "\n",
       "                                      Sentence_Lemma  \n",
       "0  the geosolutions technology leverage benefon g...  \n",
       "1                        esi low bk real possibility  \n",
       "2  for last quarter componenta net sale double m ...  \n",
       "3  accord finnish russian chamber commerce major ...  \n",
       "4  the swedish buyout firm sell remain percent st...  "
      ]
     },
     "execution_count": 188,
     "metadata": {},
     "output_type": "execute_result"
    }
   ],
   "source": [
    "# We can do all of this using sklearn count vectorizer, so will give that a try lower down.\n",
    "def lemma_text(tweet : str, nlp : spacy.lang.en.English, STOP_WORDS : set = STOP_WORDS) -> str:\n",
    "    doc = nlp(tweet)\n",
    "    lemmas = [token.lemma_.lower() for token in doc if token.lemma_.isalpha() and token.lemma not in STOP_WORDS]\n",
    "    return ' '.join(lemmas)\n",
    "\n",
    "lemma_nlp = spacy.load('en_core_web_sm')\n",
    "data_Lemma = data.copy()\n",
    "\n",
    "data_Lemma['Sentence_Lemma'] = data_Lemma['Sentence'].apply(lambda l: lemma_text(l, lemma_nlp))\n",
    "data_Lemma.head()"
   ]
  },
  {
   "cell_type": "markdown",
   "metadata": {},
   "source": [
    "Gameplan for this model:\n",
    "    - N-Grams\n",
    "    - Keras model\n",
    "    - Spacy model\n",
    "    - Voting model"
   ]
  },
  {
   "cell_type": "code",
   "execution_count": 22,
   "metadata": {},
   "outputs": [],
   "source": [
    "# General Settings\n",
    "NB_WORDS = 10000\n",
    "VAL_SIZE = 1000\n",
    "NB_START_EPOCHS = 20\n",
    "BATCH_SIZE = 512"
   ]
  },
  {
   "cell_type": "code",
   "execution_count": 49,
   "metadata": {},
   "outputs": [
    {
     "name": "stdout",
     "output_type": "stream",
     "text": [
      "We have 4089 training sample and 1753 testing samples.\n"
     ]
    }
   ],
   "source": [
    "X_train, X_test, y_train, y_test = train_test_split(\n",
    "    data['Sentence'],\n",
    "    data['Sentiment'],\n",
    "    test_size = 0.3,\n",
    "    stratify = data['Sentiment'],\n",
    "    random_state = 42\n",
    ")\n",
    "\n",
    "print(f'We have {X_train.shape[0]} training sample and {X_test.shape[0]} testing samples.')"
   ]
  },
  {
   "cell_type": "markdown",
   "metadata": {},
   "source": [
    "# Tokenizer and Keras"
   ]
  },
  {
   "cell_type": "code",
   "execution_count": 262,
   "metadata": {},
   "outputs": [],
   "source": [
    "def one_hot_seq(seqs, nb_features = NB_WORDS):\n",
    "    ohs = np.zeros((len(seqs), nb_features))\n",
    "    for i, s in enumerate(seqs):\n",
    "        ohs[i, s] = 1.\n",
    "    return ohs\n",
    "\n",
    "def compile_fit_model(model, verbose = 0):\n",
    "    model.compile(optimizer='rmsprop', loss='categorical_crossentropy', metrics=['accuracy'])\n",
    "    model.fit(X_train_rest, y_train_rest, validation_data=(X_valid, y_valid),\n",
    "              epochs=NB_START_EPOCHS, batch_size=BATCH_SIZE, verbose = verbose)\n",
    "    return model\n",
    "\n",
    "def plot_keras_history(model):\n",
    "    history = model.history.history\n",
    "    e = range(1, NB_START_EPOCHS + 1)\n",
    "    \n",
    "    fig, (ax1, ax2) = plt.subplots(2, figsize=(10,10))\n",
    "    fig.suptitle('Deep Learning Stats')\n",
    "    ax1.plot(e, history['loss'], 'bo', label = 'Train Loss')\n",
    "    ax1.plot(e, history['val_loss'], 'b', label = 'Vaidation Loss')\n",
    "    ax2.plot(e, history['accuracy'], 'ro', label = 'Train Accuracy')\n",
    "    ax2.plot(e, history['val_accuracy'], 'r', label = 'Vaidation Accuracy')\n",
    "\n",
    "    ax1.legend()\n",
    "    ax2.legend()\n",
    "    plt.show()\n",
    "\n",
    "def evaluate_model(model):\n",
    "    if type(model) == models.Sequential:\n",
    "        rtn = model.evaluate(X_test_oh, y_test_oh, verbose=0)\n",
    "        return f'Accuracy of {rtn[1] * 100:.2f}% and loss of {rtn[0]:.2f}'"
   ]
  },
  {
   "cell_type": "code",
   "execution_count": 50,
   "metadata": {},
   "outputs": [
    {
     "name": "stdout",
     "output_type": "stream",
     "text": [
      "Fitted tokenizer on 4089 documents\n",
      "10000 words in dictionary\n",
      "Top 5 most common words are: [('the', 922), ('eur', 863), (\"'s\", 664), ('company', 541), ('mn', 497)]\n"
     ]
    }
   ],
   "source": [
    "tk = Tokenizer(num_words = NB_WORDS,\n",
    "    filters = '!\"#$%&()*+,-./:;<=>?@[\\\\]^_`{|}~\\t\\n',\n",
    "    lower = True,\n",
    "    split = \" \"\n",
    ")\n",
    "\n",
    "tk.fit_on_texts(X_train)\n",
    "\n",
    "print('Fitted tokenizer on {} documents'.format(tk.document_count))\n",
    "print('{} words in dictionary'.format(tk.num_words))\n",
    "print('Top 5 most common words are:', collections.Counter(tk.word_counts).most_common(5))"
   ]
  },
  {
   "cell_type": "code",
   "execution_count": 51,
   "metadata": {},
   "outputs": [],
   "source": [
    "X_train_seq = tk.texts_to_sequences(X_train)\n",
    "X_test_seq = tk.texts_to_sequences(X_test)"
   ]
  },
  {
   "cell_type": "code",
   "execution_count": 52,
   "metadata": {},
   "outputs": [
    {
     "data": {
      "text/plain": [
       "26            Costco: Premier Retail Dividend Play  $COST\n",
       "5197    The Diameter Protocol developed according stan...\n",
       "4070    Glaston 's share GLA1V listed NASDAQ OMX Helsi...\n",
       "Name: Sentence, dtype: object"
      ]
     },
     "execution_count": 52,
     "metadata": {},
     "output_type": "execute_result"
    }
   ],
   "source": [
    "X_train[0:3]"
   ]
  },
  {
   "cell_type": "code",
   "execution_count": 53,
   "metadata": {},
   "outputs": [
    {
     "data": {
      "text/plain": [
       "['costco premier retail dividend play cost',\n",
       " 'the diameter protocol developed according standards ietf rfc 3588 ietf rfc 3539',\n",
       " \"glaston 's share gla1v listed nasdaq omx helsinki mid cap list\"]"
      ]
     },
     "execution_count": 53,
     "metadata": {},
     "output_type": "execute_result"
    }
   ],
   "source": [
    "tk.sequences_to_texts(X_train_seq[0:3])"
   ]
  },
  {
   "cell_type": "code",
   "execution_count": 68,
   "metadata": {},
   "outputs": [],
   "source": [
    "# This loses order, which is fine for now.\n",
    "X_train_oh = one_hot_seq(X_train_seq)\n",
    "X_test_oh = one_hot_seq(X_test_seq)"
   ]
  },
  {
   "cell_type": "code",
   "execution_count": 71,
   "metadata": {},
   "outputs": [
    {
     "data": {
      "text/plain": [
       "(4089, 10000)"
      ]
     },
     "execution_count": 71,
     "metadata": {},
     "output_type": "execute_result"
    }
   ],
   "source": [
    "X_train_oh.shape"
   ]
  },
  {
   "cell_type": "code",
   "execution_count": 72,
   "metadata": {},
   "outputs": [
    {
     "name": "stdout",
     "output_type": "stream",
     "text": [
      "\"positive\" is converted into 2\n",
      "\"2\" is converted into [0. 0. 1.]\n"
     ]
    }
   ],
   "source": [
    "le = LabelEncoder()\n",
    "y_train_le = le.fit_transform(y_train)\n",
    "y_test_le = le.transform(y_test)\n",
    "y_train_oh = to_categorical(y_train_le)\n",
    "y_test_oh = to_categorical(y_test_le)\n",
    "\n",
    "print('\"{}\" is converted into {}'.format(y_train[0], y_train_le[0]))\n",
    "print('\"{}\" is converted into {}'.format(y_train_le[0], y_train_oh[0]))"
   ]
  },
  {
   "cell_type": "code",
   "execution_count": 73,
   "metadata": {},
   "outputs": [
    {
     "name": "stdout",
     "output_type": "stream",
     "text": [
      "Shape of validation set: (409, 10000)\n"
     ]
    }
   ],
   "source": [
    "X_train_rest, X_valid, y_train_rest, y_valid = train_test_split(X_train_oh, \n",
    "                                                                y_train_oh, \n",
    "                                                                test_size=0.1, \n",
    "                                                                random_state=37)\n",
    "\n",
    "print('Shape of validation set:', X_valid.shape)"
   ]
  },
  {
   "cell_type": "code",
   "execution_count": 74,
   "metadata": {},
   "outputs": [
    {
     "name": "stdout",
     "output_type": "stream",
     "text": [
      "Model: \"sequential\"\n",
      "_________________________________________________________________\n",
      " Layer (type)                Output Shape              Param #   \n",
      "=================================================================\n",
      " dense (Dense)               (None, 64)                640064    \n",
      "                                                                 \n",
      " dense_1 (Dense)             (None, 64)                4160      \n",
      "                                                                 \n",
      " dense_2 (Dense)             (None, 3)                 195       \n",
      "                                                                 \n",
      "=================================================================\n",
      "Total params: 644,419\n",
      "Trainable params: 644,419\n",
      "Non-trainable params: 0\n",
      "_________________________________________________________________\n"
     ]
    }
   ],
   "source": [
    "base_model = models.Sequential()\n",
    "base_model.add(layers.Dense(64, activation='relu', input_shape=(NB_WORDS,)))\n",
    "base_model.add(layers.Dense(64, activation='relu'))\n",
    "base_model.add(layers.Dense(3, activation='softmax'))\n",
    "base_model.summary()"
   ]
  },
  {
   "cell_type": "code",
   "execution_count": 263,
   "metadata": {},
   "outputs": [
    {
     "data": {
      "image/png": "[encoded data removed]",
      "text/plain": [
       "<Figure size 720x720 with 2 Axes>"
      ]
     },
     "metadata": {
      "needs_background": "light"
     },
     "output_type": "display_data"
    }
   ],
   "source": [
    "base_model_fit = compile_fit_model(base_model)\n",
    "plot_keras_history(base_model_fit)"
   ]
  },
  {
   "cell_type": "code",
   "execution_count": 261,
   "metadata": {},
   "outputs": [
    {
     "data": {
      "text/plain": [
       "'Accuracy of 60.81% and loss of 6.83'"
      ]
     },
     "execution_count": 261,
     "metadata": {},
     "output_type": "execute_result"
    }
   ],
   "source": [
    "evaluate_model(base_model_fit)"
   ]
  },
  {
   "cell_type": "markdown",
   "metadata": {},
   "source": [
    "## Base Model Analysis\n",
    "This is overfitting somewhat aggressively, I am going to add some dropouts."
   ]
  },
  {
   "cell_type": "code",
   "execution_count": 98,
   "metadata": {},
   "outputs": [
    {
     "name": "stdout",
     "output_type": "stream",
     "text": [
      "Model: \"sequential_1\"\n",
      "_________________________________________________________________\n",
      " Layer (type)                Output Shape              Param #   \n",
      "=================================================================\n",
      " dense_3 (Dense)             (None, 64)                640064    \n",
      "                                                                 \n",
      " dropout (Dropout)           (None, 64)                0         \n",
      "                                                                 \n",
      " dense_4 (Dense)             (None, 64)                4160      \n",
      "                                                                 \n",
      " dropout_1 (Dropout)         (None, 64)                0         \n",
      "                                                                 \n",
      " dense_5 (Dense)             (None, 3)                 195       \n",
      "                                                                 \n",
      "=================================================================\n",
      "Total params: 644,419\n",
      "Trainable params: 644,419\n",
      "Non-trainable params: 0\n",
      "_________________________________________________________________\n"
     ]
    }
   ],
   "source": [
    "dropout_model = models.Sequential()\n",
    "dropout_model.add(layers.Dense(64, activation='relu', input_shape=(NB_WORDS,)))\n",
    "dropout_model.add(layers.Dropout(0.5))\n",
    "dropout_model.add(layers.Dense(64, activation='relu'))\n",
    "dropout_model.add(layers.Dropout(0.5))\n",
    "dropout_model.add(layers.Dense(3, activation='softmax'))\n",
    "dropout_model.summary()"
   ]
  },
  {
   "cell_type": "code",
   "execution_count": 264,
   "metadata": {},
   "outputs": [
    {
     "data": {
      "image/png": "[encoded data removed]",
      "text/plain": [
       "<Figure size 720x720 with 2 Axes>"
      ]
     },
     "metadata": {
      "needs_background": "light"
     },
     "output_type": "display_data"
    }
   ],
   "source": [
    "dropout_model_fit = compile_fit_model(base_model)\n",
    "plot_keras_history(dropout_model_fit)"
   ]
  },
  {
   "cell_type": "markdown",
   "metadata": {},
   "source": [
    "## Dropout Model Analysis\n",
    "This definately helped, but its still going too fast. I am going to add a regularization penalty and see if that helps."
   ]
  },
  {
   "cell_type": "code",
   "execution_count": 204,
   "metadata": {},
   "outputs": [
    {
     "name": "stdout",
     "output_type": "stream",
     "text": [
      "Model: \"sequential_5\"\n",
      "_________________________________________________________________\n",
      " Layer (type)                Output Shape              Param #   \n",
      "=================================================================\n",
      " dense_15 (Dense)            (None, 64)                640064    \n",
      "                                                                 \n",
      " dense_16 (Dense)            (None, 64)                4160      \n",
      "                                                                 \n",
      " dense_17 (Dense)            (None, 3)                 195       \n",
      "                                                                 \n",
      "=================================================================\n",
      "Total params: 644,419\n",
      "Trainable params: 644,419\n",
      "Non-trainable params: 0\n",
      "_________________________________________________________________\n"
     ]
    }
   ],
   "source": [
    "reg_model = models.Sequential()\n",
    "reg_model.add(layers.Dense(64, activation='relu', input_shape=(NB_WORDS,), kernel_regularizer=regularizers.l2(0.001)))\n",
    "reg_model.add(layers.Dense(64, activation='relu', kernel_regularizer=regularizers.l2(0.001)))\n",
    "reg_model.add(layers.Dense(3, activation='softmax'))\n",
    "reg_model.summary()"
   ]
  },
  {
   "cell_type": "code",
   "execution_count": 205,
   "metadata": {},
   "outputs": [
    {
     "data": {
      "image/png": "[encoded data removed]",
      "text/plain": [
       "<Figure size 720x720 with 2 Axes>"
      ]
     },
     "metadata": {
      "needs_background": "light"
     },
     "output_type": "display_data"
    }
   ],
   "source": [
    "reg_model_fit = compile_fit_model(reg_model)\n",
    "plot_keras_history(reg_model_fit)"
   ]
  },
  {
   "cell_type": "code",
   "execution_count": 220,
   "metadata": {},
   "outputs": [
    {
     "data": {
      "text/plain": [
       "'Accuracy of 63.78% and loss of 1.10'"
      ]
     },
     "execution_count": 220,
     "metadata": {},
     "output_type": "execute_result"
    }
   ],
   "source": [
    "evaluate_model(reg_model)"
   ]
  },
  {
   "cell_type": "markdown",
   "metadata": {},
   "source": [
    "## Regularization Model Analysis\n",
    "This is way way better."
   ]
  },
  {
   "cell_type": "markdown",
   "metadata": {},
   "source": [
    "# Count Vectorizer and Keras"
   ]
  },
  {
   "cell_type": "code",
   "execution_count": 196,
   "metadata": {},
   "outputs": [
    {
     "name": "stdout",
     "output_type": "stream",
     "text": [
      "<class 'scipy.sparse.csr.csr_matrix'>\n"
     ]
    }
   ],
   "source": [
    "CV = CountVectorizer(strip_accents='ascii', stop_words='english', lowercase=True)\n",
    "# Strip accents - Removes accented charachters\n",
    "# Stop words - Removes stop words\n",
    "# Lowercase - Converts everything to lowercase\n",
    "\n",
    "X_train_CV = CV.fit_transform(X_train)\n",
    "X_test_CV = CV.transform(X_test)\n",
    "\n",
    "print(type(X_train_CV)) # Sparse Matrix"
   ]
  },
  {
   "cell_type": "code",
   "execution_count": 199,
   "metadata": {},
   "outputs": [
    {
     "data": {
      "text/plain": [
       "0.6657159155733029"
      ]
     },
     "execution_count": 199,
     "metadata": {},
     "output_type": "execute_result"
    }
   ],
   "source": [
    "# Fast and dirty Multinomial Bayes score\n",
    "mb = MultinomialNB()\n",
    "mb.fit(X_train_CV, y_train).score(X_test_CV, y_test)"
   ]
  },
  {
   "cell_type": "code",
   "execution_count": null,
   "metadata": {},
   "outputs": [],
   "source": []
  }
 ],
 "metadata": {
  "kernelspec": {
   "display_name": "Python 3",
   "language": "python",
   "name": "python3"
  },
  "language_info": {
   "codemirror_mode": {
    "name": "ipython",
    "version": 3
   },
   "file_extension": ".py",
   "mimetype": "text/x-python",
   "name": "python",
   "nbconvert_exporter": "python",
   "pygments_lexer": "ipython3",
   "version": "3.7.4"
  }
 },
 "nbformat": 4,
 "nbformat_minor": 2
}
